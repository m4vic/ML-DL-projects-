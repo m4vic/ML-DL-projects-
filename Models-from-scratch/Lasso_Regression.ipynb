{
  "nbformat": 4,
  "nbformat_minor": 0,
  "metadata": {
    "colab": {
      "provenance": [],
      "authorship_tag": "ABX9TyOBn441k8ry+U+hmR8Jlg6B",
      "include_colab_link": true
    },
    "kernelspec": {
      "name": "python3",
      "display_name": "Python 3"
    },
    "language_info": {
      "name": "python"
    }
  },
  "cells": [
    {
      "cell_type": "markdown",
      "metadata": {
        "id": "view-in-github",
        "colab_type": "text"
      },
      "source": [
        "<a href=\"https://colab.research.google.com/github/m4vic/ML-models/blob/main/Models-from-scratch/Lasso_Regression.ipynb\" target=\"_parent\"><img src=\"https://colab.research.google.com/assets/colab-badge.svg\" alt=\"Open In Colab\"/></a>"
      ]
    },
    {
      "cell_type": "markdown",
      "source": [
        "LASSO REGRESION MODEL"
      ],
      "metadata": {
        "id": "yHl0fDKk7JFz"
      }
    },
    {
      "cell_type": "code",
      "execution_count": null,
      "metadata": {
        "id": "JjlgUb5OhiPX"
      },
      "outputs": [],
      "source": [
        "import numpy as np"
      ]
    },
    {
      "cell_type": "code",
      "source": [
        "class lasso_regression():\n",
        "# initiation the hyper parameter\n",
        "  def __init__(self,learning_rate, no_of_iterations, lamda_parameter):\n",
        "    self.learning_rate = learning_rate\n",
        "    self.no_of_iterations = no_of_iterations\n",
        "    self.lamda_parameter = lamda_parameter\n",
        "\n",
        "\n",
        "\n",
        "#fitting the data set to the lr model\n",
        "  def fit(self,X,Y, no_of_iterations):\n",
        "    self.m, self.n = X.shape # stores the m  = no. of rows and n = no. of column\n",
        "    self.w = np.zeros(self.n) #n = 2 column [] means w = [0.0,0.0]\n",
        "    self.b = 0 #b = 0\n",
        "    self.X = X # x the input features\n",
        "    self.Y = Y # the traget value or true value\n",
        "    # implementing the gradient descent algorithem\n",
        "\n",
        "    for i in range(no_of_iterations):\n",
        "      self.update_weights()\n",
        "\n",
        "#updatng the weights and bias\n",
        "  def update_weights(self,):\n",
        "    #linear equation of the model\n",
        "    y_prediction = self.predict(self.X)\n",
        "    #gradient\n",
        "\n",
        "    dw = np.zeros(self.n)\n",
        "\n",
        "\n",
        "    for i in range(self.n):\n",
        "      if self.w[i] > 0:\n",
        "        dw[i] = (-(2*(self.X[:,i]).dot(self.Y-y_prediction)) + self.lamda_parameter)/self.m\n",
        "      else:\n",
        "        dw[i] = (-(2*(self.X[:,i]).dot(self.Y-y_prediction)) + self.lamda_parameter)/self.m\n",
        "\n",
        "\n",
        "\n",
        "\n",
        "    #gradiant for bias\n",
        "    db = -2 * np.sum(self.Y- y_prediction)/self.m\n",
        "\n",
        "\n",
        "    # updating the weight and bias value\n",
        "    self.w = self.w - self.learning_rate*dw\n",
        "    self.b = self.b - self.learning_rate*db\n",
        "\n",
        "\n",
        "\n",
        "# for predicting the target variable\n",
        "  def predict(self,X):\n",
        "    return X.dot(self.w) + self.b\n",
        "\n",
        "\n",
        "\n",
        "\n"
      ],
      "metadata": {
        "id": "ZlrnN9bFilbZ"
      },
      "execution_count": null,
      "outputs": []
    },
    {
      "cell_type": "code",
      "source": [
        "model = lasso_regression(learning_rate = 0.01, no_of_iterations = 1000, lamda_parameter = 0.01)\n",
        "\n"
      ],
      "metadata": {
        "colab": {
          "base_uri": "https://localhost:8080/"
        },
        "id": "PcAVUgi0f15b",
        "outputId": "6e5e3b53-be1e-490d-c3b0-1cd6a1d7caf5"
      },
      "execution_count": null,
      "outputs": [
        {
          "output_type": "stream",
          "name": "stdout",
          "text": [
            "<__main__.lasso_regression object at 0x7c6317f914d0>\n"
          ]
        }
      ]
    },
    {
      "cell_type": "code",
      "source": [],
      "metadata": {
        "id": "nlZX6wlim24G"
      },
      "execution_count": null,
      "outputs": []
    }
  ]
}